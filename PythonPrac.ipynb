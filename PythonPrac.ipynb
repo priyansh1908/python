{
 "cells": [
  {
   "cell_type": "code",
   "execution_count": 159,
   "id": "88a8437f-5a7b-41dc-8fe9-66a664606a36",
   "metadata": {},
   "outputs": [
    {
     "name": "stdout",
     "output_type": "stream",
     "text": [
      "Harshil Solanki\n"
     ]
    }
   ],
   "source": [
    "print(\"Harshil Solanki\")"
   ]
  },
  {
   "cell_type": "markdown",
   "id": "a6b23fd9-603b-49e5-b83e-19e7215ea8b9",
   "metadata": {},
   "source": [
    "Question 1"
   ]
  },
  {
   "cell_type": "code",
   "execution_count": 18,
   "id": "bda5ee49-f6b6-4b95-88ee-28e2c7816b2d",
   "metadata": {},
   "outputs": [],
   "source": [
    "import matplotlib.pyplot as plt\n",
    "import numpy as np\n",
    "import pandas as pd\n",
    "import seaborn as sns\n",
    "import matplotlib.font_manager as fm\n",
    "from datetime import datetime, timedelta"
   ]
  },
  {
   "cell_type": "code",
   "execution_count": 12,
   "id": "dea312d0-6af8-4c15-84fe-8cba1a0b2905",
   "metadata": {},
   "outputs": [],
   "source": [
    "df = pd.read_csv(\"bank_marketing.csv\")"
   ]
  },
  {
   "cell_type": "code",
   "execution_count": 21,
   "id": "722c2166-82dd-4968-a1ba-2fa1b37fa384",
   "metadata": {},
   "outputs": [
    {
     "data": {
      "text/html": [
       "<div>\n",
       "<style scoped>\n",
       "    .dataframe tbody tr th:only-of-type {\n",
       "        vertical-align: middle;\n",
       "    }\n",
       "\n",
       "    .dataframe tbody tr th {\n",
       "        vertical-align: top;\n",
       "    }\n",
       "\n",
       "    .dataframe thead th {\n",
       "        text-align: right;\n",
       "    }\n",
       "</style>\n",
       "<table border=\"1\" class=\"dataframe\">\n",
       "  <thead>\n",
       "    <tr style=\"text-align: right;\">\n",
       "      <th></th>\n",
       "      <th>Unnamed: 0</th>\n",
       "      <th>age</th>\n",
       "      <th>job</th>\n",
       "      <th>marital</th>\n",
       "      <th>education</th>\n",
       "      <th>default</th>\n",
       "      <th>balance</th>\n",
       "      <th>housing</th>\n",
       "      <th>loan</th>\n",
       "      <th>contact</th>\n",
       "      <th>day</th>\n",
       "      <th>month</th>\n",
       "      <th>duration</th>\n",
       "      <th>campaign</th>\n",
       "      <th>pdays</th>\n",
       "      <th>previous</th>\n",
       "      <th>poutcome</th>\n",
       "      <th>deposit</th>\n",
       "    </tr>\n",
       "  </thead>\n",
       "  <tbody>\n",
       "    <tr>\n",
       "      <th>0</th>\n",
       "      <td>0</td>\n",
       "      <td>41</td>\n",
       "      <td>services</td>\n",
       "      <td>married</td>\n",
       "      <td>unknown</td>\n",
       "      <td>no</td>\n",
       "      <td>88</td>\n",
       "      <td>yes</td>\n",
       "      <td>no</td>\n",
       "      <td>cellular</td>\n",
       "      <td>11</td>\n",
       "      <td>may</td>\n",
       "      <td>105</td>\n",
       "      <td>1</td>\n",
       "      <td>336</td>\n",
       "      <td>2</td>\n",
       "      <td>failure</td>\n",
       "      <td>no</td>\n",
       "    </tr>\n",
       "    <tr>\n",
       "      <th>1</th>\n",
       "      <td>1</td>\n",
       "      <td>56</td>\n",
       "      <td>technician</td>\n",
       "      <td>married</td>\n",
       "      <td>secondary</td>\n",
       "      <td>no</td>\n",
       "      <td>1938</td>\n",
       "      <td>no</td>\n",
       "      <td>yes</td>\n",
       "      <td>cellular</td>\n",
       "      <td>26</td>\n",
       "      <td>feb</td>\n",
       "      <td>229</td>\n",
       "      <td>1</td>\n",
       "      <td>192</td>\n",
       "      <td>4</td>\n",
       "      <td>success</td>\n",
       "      <td>yes</td>\n",
       "    </tr>\n",
       "    <tr>\n",
       "      <th>2</th>\n",
       "      <td>2</td>\n",
       "      <td>30</td>\n",
       "      <td>services</td>\n",
       "      <td>single</td>\n",
       "      <td>secondary</td>\n",
       "      <td>no</td>\n",
       "      <td>245</td>\n",
       "      <td>no</td>\n",
       "      <td>yes</td>\n",
       "      <td>cellular</td>\n",
       "      <td>8</td>\n",
       "      <td>jul</td>\n",
       "      <td>187</td>\n",
       "      <td>2</td>\n",
       "      <td>-1</td>\n",
       "      <td>0</td>\n",
       "      <td>unknown</td>\n",
       "      <td>no</td>\n",
       "    </tr>\n",
       "    <tr>\n",
       "      <th>3</th>\n",
       "      <td>3</td>\n",
       "      <td>34</td>\n",
       "      <td>management</td>\n",
       "      <td>single</td>\n",
       "      <td>tertiary</td>\n",
       "      <td>no</td>\n",
       "      <td>1396</td>\n",
       "      <td>yes</td>\n",
       "      <td>no</td>\n",
       "      <td>cellular</td>\n",
       "      <td>17</td>\n",
       "      <td>jul</td>\n",
       "      <td>630</td>\n",
       "      <td>1</td>\n",
       "      <td>-1</td>\n",
       "      <td>0</td>\n",
       "      <td>unknown</td>\n",
       "      <td>no</td>\n",
       "    </tr>\n",
       "    <tr>\n",
       "      <th>4</th>\n",
       "      <td>4</td>\n",
       "      <td>29</td>\n",
       "      <td>technician</td>\n",
       "      <td>single</td>\n",
       "      <td>secondary</td>\n",
       "      <td>no</td>\n",
       "      <td>-13</td>\n",
       "      <td>yes</td>\n",
       "      <td>no</td>\n",
       "      <td>cellular</td>\n",
       "      <td>14</td>\n",
       "      <td>may</td>\n",
       "      <td>512</td>\n",
       "      <td>3</td>\n",
       "      <td>-1</td>\n",
       "      <td>0</td>\n",
       "      <td>unknown</td>\n",
       "      <td>no</td>\n",
       "    </tr>\n",
       "  </tbody>\n",
       "</table>\n",
       "</div>"
      ],
      "text/plain": [
       "   Unnamed: 0  age         job  marital  education default  balance housing  \\\n",
       "0           0   41    services  married    unknown      no       88     yes   \n",
       "1           1   56  technician  married  secondary      no     1938      no   \n",
       "2           2   30    services   single  secondary      no      245      no   \n",
       "3           3   34  management   single   tertiary      no     1396     yes   \n",
       "4           4   29  technician   single  secondary      no      -13     yes   \n",
       "\n",
       "  loan   contact  day month  duration  campaign  pdays  previous poutcome  \\\n",
       "0   no  cellular   11   may       105         1    336         2  failure   \n",
       "1  yes  cellular   26   feb       229         1    192         4  success   \n",
       "2  yes  cellular    8   jul       187         2     -1         0  unknown   \n",
       "3   no  cellular   17   jul       630         1     -1         0  unknown   \n",
       "4   no  cellular   14   may       512         3     -1         0  unknown   \n",
       "\n",
       "  deposit  \n",
       "0      no  \n",
       "1     yes  \n",
       "2      no  \n",
       "3      no  \n",
       "4      no  "
      ]
     },
     "execution_count": 21,
     "metadata": {},
     "output_type": "execute_result"
    }
   ],
   "source": [
    "df.head(5)"
   ]
  },
  {
   "cell_type": "code",
   "execution_count": 22,
   "id": "ba94248d-8845-4f97-a3f2-5db7119af76f",
   "metadata": {},
   "outputs": [
    {
     "data": {
      "text/plain": [
       "(5581, 18)"
      ]
     },
     "execution_count": 22,
     "metadata": {},
     "output_type": "execute_result"
    }
   ],
   "source": [
    "df.shape"
   ]
  },
  {
   "cell_type": "code",
   "execution_count": 16,
   "id": "35f521c0-b04f-4a36-ad1c-2abd0bad0845",
   "metadata": {},
   "outputs": [
    {
     "data": {
      "text/plain": [
       "Index(['Unnamed: 0', 'age', 'job', 'marital', 'education', 'default',\n",
       "       'balance', 'housing', 'loan', 'contact', 'day', 'month', 'duration',\n",
       "       'campaign', 'pdays', 'previous', 'poutcome', 'deposit'],\n",
       "      dtype='object')"
      ]
     },
     "execution_count": 16,
     "metadata": {},
     "output_type": "execute_result"
    }
   ],
   "source": [
    "df.columns"
   ]
  },
  {
   "cell_type": "code",
   "execution_count": 64,
   "id": "e1821d16-d380-43be-b45e-811602de6e18",
   "metadata": {},
   "outputs": [
    {
     "data": {
      "image/png": "[encoded data removed]",
      "text/plain": [
       "<Figure size 1200x800 with 1 Axes>"
      ]
     },
     "metadata": {},
     "output_type": "display_data"
    }
   ],
   "source": [
    "job_counts = df['job'].value_counts()\n",
    "plt.figure(figsize=(12,8))\n",
    "plt.bar(job_counts.index,job_counts,color='purple')\n",
    "plt.title('Distribution of Job Roles')\n",
    "plt.xlabel('Jobs')\n",
    "plt.ylabel('Count')\n",
    "plt.xticks(rotation=45, ha='right')\n",
    "plt.tight_layout()\n",
    "plt.grid(False)\n",
    "plt.show()"
   ]
  },
  {
   "cell_type": "code",
   "execution_count": 49,
   "id": "71e2e7f4-b2ef-46e8-b1ec-29853b988a68",
   "metadata": {},
   "outputs": [
    {
     "data": {
      "image/png": "[encoded data removed]",
      "text/plain": [
       "<Figure size 1200x800 with 1 Axes>"
      ]
     },
     "metadata": {},
     "output_type": "display_data"
    }
   ],
   "source": [
    "plt.figure(figsize=(12,8))\n",
    "counts, edges, bars = plt.hist(df['age'], bins=20,color='skyblue',edgecolor='black')\n",
    "plt.title('Distribution of Age')\n",
    "plt.xlabel('Age')\n",
    "plt.ylabel('Count')\n",
    "plt.bar_label(bars)\n",
    "plt.tight_layout()\n",
    "plt.grid(axis ='y', alpha=0.5)\n",
    "plt.show()"
   ]
  },
  {
   "cell_type": "code",
   "execution_count": 54,
   "id": "9c39a481-9f22-4026-bb01-ff2f1b9bc8dd",
   "metadata": {},
   "outputs": [
    {
     "data": {
      "text/plain": [
       "<function matplotlib.pyplot.show(close=None, block=None)>"
      ]
     },
     "execution_count": 54,
     "metadata": {},
     "output_type": "execute_result"
    },
    {
     "data": {
      "image/png": "[encoded data removed]",
      "text/plain": [
       "<Figure size 1000x600 with 1 Axes>"
      ]
     },
     "metadata": {},
     "output_type": "display_data"
    }
   ],
   "source": [
    "plt.figure(figsize=(10,6))\n",
    "plt.scatter(df['balance'], df['duration'], alpha = 0.5 , color='red')\n",
    "plt.title(\"Scatter Plot\")\n",
    "plt.xlabel(\"Acc Balance\")\n",
    "plt.ylabel(\"last Contacted\")\n",
    "plt.show"
   ]
  },
  {
   "cell_type": "markdown",
   "id": "d70c7378-f704-4fe6-b513-41c084e39ef8",
   "metadata": {},
   "source": [
    "QUESTION 2"
   ]
  },
  {
   "cell_type": "code",
   "execution_count": 58,
   "id": "9f2190ca-37f2-4335-b1b8-cc20f8ade7d0",
   "metadata": {},
   "outputs": [
    {
     "name": "stdout",
     "output_type": "stream",
     "text": [
      "Enter Player name: \n"
     ]
    },
    {
     "name": "stdin",
     "output_type": "stream",
     "text": [
      "1:  Haaland\n",
      "2:  Doku\n",
      "3:  Jack\n",
      "4:  Kevin\n",
      "5:  Foden\n",
      "6:  Walker\n",
      "7:  Gvardiol\n",
      "8:  Rodri\n",
      "9:  Ruben\n",
      "10:  Akanji\n"
     ]
    },
    {
     "name": "stdout",
     "output_type": "stream",
     "text": [
      "['Haaland', 'Doku', 'Jack', 'Kevin', 'Foden', 'Walker', 'Gvardiol', 'Rodri', 'Ruben', 'Akanji']\n",
      "['Akanji', 'Doku', 'Foden', 'Gvardiol', 'Haaland', 'Jack', 'Kevin', 'Rodri', 'Ruben', 'Walker']\n",
      "Akanji\n"
     ]
    }
   ],
   "source": [
    "Mancity = []\n",
    "print(\"Enter Player name: \")\n",
    "for i in range (1,11):\n",
    "    x = str(input(f\"{i}: \"))\n",
    "    Mancity.append(x)\n",
    "print(Mancity)\n",
    "Mancity.sort()\n",
    "print(Mancity)\n",
    "print(Mancity[0])"
   ]
  },
  {
   "cell_type": "raw",
   "id": "4bdaf405-cd71-46c3-8401-9cfa3c3a75e4",
   "metadata": {},
   "source": [
    "Question 3"
   ]
  },
  {
   "cell_type": "code",
   "execution_count": 62,
   "id": "14725c37-ca86-4768-a5b0-77d7e215bd09",
   "metadata": {},
   "outputs": [
    {
     "name": "stdout",
     "output_type": "stream",
     "text": [
      "[169, 119, 179, 102, 132, 110, 146, 126, 138, 142]\n",
      "[102, 110, 119, 126, 132, 138, 142, 146, 169, 179]\n",
      "102\n"
     ]
    }
   ],
   "source": [
    "import random\n",
    "mylist=[]\n",
    "for i in range(0,10):\n",
    "    x = random.randint(100,200)\n",
    "    mylist.append(x)\n",
    "print(mylist)\n",
    "mylist.sort()\n",
    "print(mylist)\n",
    "print(mylist[0])"
   ]
  },
  {
   "cell_type": "markdown",
   "id": "275d03dc-7401-4982-875d-68dd99ecc38c",
   "metadata": {},
   "source": [
    "Question 4"
   ]
  },
  {
   "cell_type": "code",
   "execution_count": 67,
   "id": "581e9902-c220-4a1a-b2bf-9806a7564063",
   "metadata": {},
   "outputs": [
    {
     "name": "stdin",
     "output_type": "stream",
     "text": [
      "enter name india\n",
      "enter currency rupees\n",
      "enter name korea\n",
      "enter currency yen\n",
      "enter name usa\n",
      "enter currency dollar\n",
      "enter name dubai\n",
      "enter currency dirham\n",
      "enter name xyz\n",
      "enter currency abc\n"
     ]
    },
    {
     "name": "stdout",
     "output_type": "stream",
     "text": [
      "{'india': 'rupees', 'korea': 'yen', 'usa': 'dollar', 'dubai': 'dirham', 'xyz': 'abc'}\n"
     ]
    }
   ],
   "source": [
    "thisdict = {}\n",
    "for i in range (0,5):\n",
    "    name = input(\"enter name\")\n",
    "    currency = input(\"enter currency\")\n",
    "    thisdict[name] = currency\n",
    "print(thisdict)"
   ]
  },
  {
   "cell_type": "markdown",
   "id": "f98ab0fb-8f0f-4210-96a4-0207d4a658e7",
   "metadata": {},
   "source": [
    "Question 5"
   ]
  },
  {
   "cell_type": "code",
   "execution_count": 68,
   "id": "1d0a410f-2813-4d3c-a667-4c7b1fbf4ae1",
   "metadata": {},
   "outputs": [
    {
     "name": "stdin",
     "output_type": "stream",
     "text": [
      "Enter string:  Hello my name is Harshil\n"
     ]
    },
    {
     "name": "stdout",
     "output_type": "stream",
     "text": [
      "Modified string:\n",
      "Hello-my-name-is-Harshil\n"
     ]
    }
   ],
   "source": [
    "string=input(\"Enter string: \")\n",
    "string=string.replace(' ','-')\n",
    "print(\"Modified string:\")\n",
    "print(string)"
   ]
  },
  {
   "cell_type": "markdown",
   "id": "3a6af462-7f2e-4a8d-8ba6-6197080f7e60",
   "metadata": {},
   "source": [
    "Question 6"
   ]
  },
  {
   "cell_type": "code",
   "execution_count": 71,
   "id": "d8b593d6-c77c-4cdf-bf3a-9d43ce66ef50",
   "metadata": {},
   "outputs": [
    {
     "name": "stdin",
     "output_type": "stream",
     "text": [
      "Enter the coeff A:  1\n",
      "Enter the coeff B:  2\n",
      "Enter the coeff C:  2\n"
     ]
    },
    {
     "name": "stdout",
     "output_type": "stream",
     "text": [
      "x1 is (-1+1j)\n",
      "x2 is (-1-1j)\n"
     ]
    }
   ],
   "source": [
    "import cmath\n",
    "a = int(input(\"Enter the coeff A: \"))\n",
    "b = int(input(\"Enter the coeff B: \"))\n",
    "c = int(input(\"Enter the coeff C: \"))\n",
    "\n",
    "d = cmath.sqrt((b**2)-(4*a*c))\n",
    "x1 = (-b + d)/2*a\n",
    "x2 = (-b - d)/2*a\n",
    "print(\"x1 is\",x1)\n",
    "print(\"x2 is\",x2)"
   ]
  },
  {
   "cell_type": "markdown",
   "id": "43e62b7e-a2af-47d4-83f2-152ea9d28e22",
   "metadata": {},
   "source": [
    "QUESTION 7"
   ]
  },
  {
   "cell_type": "code",
   "execution_count": 74,
   "id": "9a1fe391-87ef-4418-8813-1ea0a0d2f51f",
   "metadata": {},
   "outputs": [
    {
     "name": "stdin",
     "output_type": "stream",
     "text": [
      "Enter how many elements of fibo series you want 6\n"
     ]
    },
    {
     "name": "stdout",
     "output_type": "stream",
     "text": [
      "0\n",
      "1\n",
      "2\n",
      "3\n",
      "5\n",
      "8\n",
      "13\n"
     ]
    }
   ],
   "source": [
    "n1 = 0\n",
    "n2 = 1\n",
    "count = 0\n",
    "n = int(input(\"Enter how many elements of fibo series you want\"))\n",
    "print(\"0\")\n",
    "while(count<n):\n",
    "    sum = n1 + n2\n",
    "    print(sum)\n",
    "    n1 = n2\n",
    "    n2 = sum\n",
    "    count += 1"
   ]
  },
  {
   "cell_type": "markdown",
   "id": "33e7e89b-dcaf-493b-ba50-29705caa2a7e",
   "metadata": {},
   "source": [
    "QUESTION 8"
   ]
  },
  {
   "cell_type": "code",
   "execution_count": 76,
   "id": "e2a62374-44db-4c5c-b76e-fa39cf84c110",
   "metadata": {},
   "outputs": [
    {
     "name": "stdout",
     "output_type": "stream",
     "text": [
      "[1 1 1 1 1]\n"
     ]
    }
   ],
   "source": [
    "arr1 = np.array([1,1,1,1,1])\n",
    "print(arr1)"
   ]
  },
  {
   "cell_type": "markdown",
   "id": "258c82b5-ffcc-44f0-9c47-2cdf5eafec2c",
   "metadata": {},
   "source": [
    "QUESTION 9"
   ]
  },
  {
   "cell_type": "code",
   "execution_count": 91,
   "id": "dfce4f02-8d75-4cf6-9587-c0ce4fa52e4b",
   "metadata": {},
   "outputs": [
    {
     "name": "stdin",
     "output_type": "stream",
     "text": [
      "Enter no. of rows 2\n",
      "Enter no. of columns 2\n"
     ]
    },
    {
     "name": "stdout",
     "output_type": "stream",
     "text": [
      "Enter the elements\n"
     ]
    },
    {
     "name": "stdin",
     "output_type": "stream",
     "text": [
      " 1\n",
      " 2\n",
      " 3\n",
      " 4\n"
     ]
    },
    {
     "name": "stdout",
     "output_type": "stream",
     "text": [
      "[[1 2]\n",
      " [3 4]]\n",
      "Enter elements of the row you want to check\n"
     ]
    },
    {
     "name": "stdin",
     "output_type": "stream",
     "text": [
      " 1\n",
      " 2\n"
     ]
    },
    {
     "name": "stdout",
     "output_type": "stream",
     "text": [
      "Row present\n"
     ]
    }
   ],
   "source": [
    "i = int(input(\"Enter no. of rows\"))\n",
    "j = int(input(\"Enter no. of columns\"))\n",
    "print(\"Enter the elements\")\n",
    "list1=[]\n",
    "for r in range(0,i):\n",
    "    list2 = []\n",
    "    for c in range(0,j):\n",
    "        list2.append(int(input()))\n",
    "    list1.append(list2)\n",
    "mat1 = np.array(list1)\n",
    "print(mat1)\n",
    "b = []\n",
    "print(\"Enter elements of the row you want to check\")\n",
    "for o in range(0,i):\n",
    "    x = int(input())\n",
    "    b.append(x)\n",
    "if(b in mat1.tolist()):\n",
    "    print(\"Row present\")\n",
    "else:\n",
    "    print(\"Row not present\")\n",
    "\n",
    "\n",
    "            "
   ]
  },
  {
   "cell_type": "markdown",
   "id": "d2324010-071b-4496-9350-f087f99fc29f",
   "metadata": {},
   "source": [
    "Question 10"
   ]
  },
  {
   "cell_type": "code",
   "execution_count": 94,
   "id": "e09b2947-2fbc-4096-8f85-e8f3d0c0e802",
   "metadata": {},
   "outputs": [
    {
     "name": "stdin",
     "output_type": "stream",
     "text": [
      "Enter no. of rows for matrix 1:  2\n",
      "Enter no. of columns for matrix 2:  2\n"
     ]
    },
    {
     "name": "stdout",
     "output_type": "stream",
     "text": [
      "Enter the elements of matrix 1\n"
     ]
    },
    {
     "name": "stdin",
     "output_type": "stream",
     "text": [
      " 1\n",
      " 2\n",
      " 3\n",
      " 4\n"
     ]
    },
    {
     "name": "stdout",
     "output_type": "stream",
     "text": [
      "[[1 2]\n",
      " [3 4]]\n"
     ]
    },
    {
     "name": "stdin",
     "output_type": "stream",
     "text": [
      "Enter no. of rows for matrix 2:  2\n",
      "Enter no. of columns for matrix 2:  2\n"
     ]
    },
    {
     "name": "stdout",
     "output_type": "stream",
     "text": [
      "Enter the elements of matrix 2\n"
     ]
    },
    {
     "name": "stdin",
     "output_type": "stream",
     "text": [
      " 5\n",
      " 66\n",
      " 7\n",
      " 8\n"
     ]
    },
    {
     "name": "stdout",
     "output_type": "stream",
     "text": [
      "[[ 5 66]\n",
      " [ 7  8]]\n",
      "Sum of two matrices\n",
      "[[ 6 68]\n",
      " [10 12]]\n",
      "Multiplication of two matrices\n",
      "[[  5 132]\n",
      " [ 21  32]]\n"
     ]
    }
   ],
   "source": [
    "i = int(input(\"Enter no. of rows for matrix 1: \"))\n",
    "j = int(input(\"Enter no. of columns for matrix 2: \"))\n",
    "print(\"Enter the elements of matrix 1\")\n",
    "list1=[]\n",
    "for r in range(0,i):\n",
    "    list2 = []\n",
    "    for c in range(0,j):\n",
    "        list2.append(int(input()))\n",
    "    list1.append(list2)\n",
    "mat1 = np.array(list1)\n",
    "print(mat1)\n",
    "x = int(input(\"Enter no. of rows for matrix 2: \"))\n",
    "y = int(input(\"Enter no. of columns for matrix 2: \"))\n",
    "print(\"Enter the elements of matrix 2\")\n",
    "list3=[]\n",
    "for a in range(0,x):\n",
    "    list4 = []\n",
    "    for b in range(0,y):\n",
    "        list4.append(int(input()))\n",
    "    list3.append(list4)\n",
    "mat2 = np.array(list3)\n",
    "print(mat2)\n",
    "sum = mat1 + mat2\n",
    "mult = mat1*mat2\n",
    "print(\"Sum of two matrices\")\n",
    "print(sum)\n",
    "print(\"Multiplication of two matrices\")\n",
    "print(mult)"
   ]
  },
  {
   "cell_type": "markdown",
   "id": "cd47b2b2-a6e4-44d7-b122-7f6c9db17d88",
   "metadata": {},
   "source": [
    "Question 11/QUESTION 12"
   ]
  },
  {
   "cell_type": "code",
   "execution_count": 96,
   "id": "4b1aa527-c84c-4120-a995-54c46420a69d",
   "metadata": {},
   "outputs": [],
   "source": [
    "from statistics import mode\n"
   ]
  },
  {
   "cell_type": "code",
   "execution_count": 100,
   "id": "c28e79d5-0504-4a60-a106-96bc13e61fae",
   "metadata": {},
   "outputs": [
    {
     "name": "stdin",
     "output_type": "stream",
     "text": [
      "Enter no. of rows for matrix 1:  2\n",
      "Enter no. of columns for matrix 2:  2\n"
     ]
    },
    {
     "name": "stdout",
     "output_type": "stream",
     "text": [
      "Enter the elements of matrix 1\n"
     ]
    },
    {
     "name": "stdin",
     "output_type": "stream",
     "text": [
      " 1\n",
      " 2\n",
      " 3\n",
      " 2\n"
     ]
    },
    {
     "name": "stdout",
     "output_type": "stream",
     "text": [
      "[[1 2]\n",
      " [3 2]]\n",
      "The freq value is  2\n"
     ]
    }
   ],
   "source": [
    "i = int(input(\"Enter no. of rows for matrix 1: \"))\n",
    "j = int(input(\"Enter no. of columns for matrix 2: \"))\n",
    "print(\"Enter the elements of matrix 1\")\n",
    "list1=[]\n",
    "for r in range(0,i):\n",
    "    list2 = []\n",
    "    for c in range(0,j):\n",
    "        list2.append(int(input()))\n",
    "    list1.append(list2)\n",
    "mat1 = np.array(list1)\n",
    "mat2 = mat1.flatten() #flatten method\n",
    "print(mat1)\n",
    "freq_val = mode(mat2)\n",
    "print(\"The freq value is \",freq_val)"
   ]
  },
  {
   "cell_type": "markdown",
   "id": "5adfc241-c4c1-4956-a116-ff512b023779",
   "metadata": {},
   "source": [
    "QUESTION 13"
   ]
  },
  {
   "cell_type": "code",
   "execution_count": 101,
   "id": "fb2ba3b7-2dee-4cc8-bba5-ac734a192c13",
   "metadata": {},
   "outputs": [
    {
     "name": "stdout",
     "output_type": "stream",
     "text": [
      "Original array:\n",
      "[[0 1 2]\n",
      " [3 4 5]\n",
      " [6 7 8]]\n",
      "\n",
      "Sum of all columns:\n",
      "[ 9 12 15]\n"
     ]
    }
   ],
   "source": [
    "num = np.arange(9)\n",
    "arr1 = np.reshape(num, [3, 3])\n",
    "print(\"Original array:\")\n",
    "print(arr1)\n",
    "result = arr1.sum(axis=0)\n",
    "print(\"\\nSum of all columns:\")\n",
    "print(result) \n"
   ]
  },
  {
   "cell_type": "markdown",
   "id": "31261779-6c4b-4a20-8f5b-3a1e099b9d90",
   "metadata": {},
   "source": [
    "Question 14"
   ]
  },
  {
   "cell_type": "code",
   "execution_count": 103,
   "id": "0b931ced-4da1-4feb-a4ab-341dfd1b4dfb",
   "metadata": {},
   "outputs": [
    {
     "name": "stdin",
     "output_type": "stream",
     "text": [
      "Enter the number of variables 4\n"
     ]
    },
    {
     "name": "stdout",
     "output_type": "stream",
     "text": [
      "Enter the numbers\n"
     ]
    },
    {
     "name": "stdin",
     "output_type": "stream",
     "text": [
      " 3\n",
      " 5\n",
      " 6\n",
      " 4\n"
     ]
    },
    {
     "name": "stdout",
     "output_type": "stream",
     "text": [
      "Arithmetic mean is:  4.5\n"
     ]
    }
   ],
   "source": [
    "def arthmean():\n",
    "    n = int(input(\"Enter the number of variables\"))\n",
    "    i = 0\n",
    "    print(\"Enter the numbers\")\n",
    "    sum = 0.00\n",
    "    while(i<n):\n",
    "        x = int(input())\n",
    "        sum = sum + x\n",
    "        i += 1\n",
    "    arth = sum/n\n",
    "    print(\"Arithmetic mean is: \",arth)\n",
    "arthmean()"
   ]
  },
  {
   "cell_type": "markdown",
   "id": "c2e7bf40-7f65-49d3-97b9-d29e128be72f",
   "metadata": {},
   "source": [
    "Question 15"
   ]
  },
  {
   "cell_type": "code",
   "execution_count": 106,
   "id": "2bc6c785-39d9-4a30-a9ec-5a6568d446ce",
   "metadata": {},
   "outputs": [
    {
     "name": "stdin",
     "output_type": "stream",
     "text": [
      "Enter 1st number 5\n",
      "Enter 2nd number 10\n"
     ]
    },
    {
     "name": "stdout",
     "output_type": "stream",
     "text": [
      "The maximum element between two elements is: 10\n"
     ]
    }
   ],
   "source": [
    "maximum = lambda x, y: x if x > y else y\n",
    "n1 = int(input(\"Enter 1st number\"))\n",
    "n2 = int(input(\"Enter 2nd number\"))\n",
    "result = maximum(n1, n2)\n",
    "print(\"The maximum element between two elements is:\", result)"
   ]
  },
  {
   "cell_type": "markdown",
   "id": "0a6240d6-f602-4af4-ba81-da34d26de54c",
   "metadata": {},
   "source": [
    "QUESTION 16"
   ]
  },
  {
   "cell_type": "code",
   "execution_count": 107,
   "id": "27c40a4e-c457-419f-b994-b3b0eded6e60",
   "metadata": {},
   "outputs": [
    {
     "name": "stdin",
     "output_type": "stream",
     "text": [
      "Enter the number:  10\n"
     ]
    },
    {
     "name": "stdout",
     "output_type": "stream",
     "text": [
      "The factorial is:  3628800\n"
     ]
    }
   ],
   "source": [
    "def fact(x):\n",
    "    if x==1:\n",
    "        return 1\n",
    "    else :\n",
    "        return x * fact(x-1)\n",
    "n = int(input(\"Enter the number: \"))\n",
    "res = fact(n)\n",
    "print(\"The factorial is: \",res)"
   ]
  },
  {
   "cell_type": "markdown",
   "id": "80c2a9b8-afb4-450c-9c43-1e7dda364640",
   "metadata": {},
   "source": [
    "QUESTION 17"
   ]
  },
  {
   "cell_type": "code",
   "execution_count": 109,
   "id": "9d098f4f-07ce-4b3d-b4ae-632a4fcd54b1",
   "metadata": {},
   "outputs": [
    {
     "name": "stdin",
     "output_type": "stream",
     "text": [
      "Enter your Total marks out of 100 105\n"
     ]
    },
    {
     "name": "stdout",
     "output_type": "stream",
     "text": [
      "Invalid marks entry\n"
     ]
    }
   ],
   "source": [
    "class invalidmarks(Exception):\n",
    "    pass\n",
    "try:\n",
    "    n = int(input(\"Enter your Total marks out of 100\"))\n",
    "    if n>100:\n",
    "        raise invalidmarks\n",
    "except:\n",
    "    print(\"Invalid marks entry\")\n",
    "else:\n",
    "    print(\"OK\")\n"
   ]
  },
  {
   "cell_type": "markdown",
   "id": "a5d45275-66c6-4f99-b5de-c9d4eb611b79",
   "metadata": {},
   "source": [
    "QUESTION 18"
   ]
  },
  {
   "cell_type": "code",
   "execution_count": 114,
   "id": "546ae0b6-9a74-43a2-8182-d4836a586f51",
   "metadata": {},
   "outputs": [
    {
     "name": "stdin",
     "output_type": "stream",
     "text": [
      "Enter the multiplicand 5.5\n",
      "Enter the multiplier 0\n"
     ]
    },
    {
     "name": "stdout",
     "output_type": "stream",
     "text": [
      "Anything multiplied by zero will be zero\n"
     ]
    }
   ],
   "source": [
    "class multiply_by_zero(Exception):\n",
    "    pass\n",
    "result = 0.00\n",
    "try:\n",
    "    b = float(input(\"Enter the multiplicand\"))\n",
    "    d = float(input(\"Enter the multiplier\"))\n",
    "    result = (b*d)\n",
    "    if result == 0:\n",
    "        raise multiply_by_zero\n",
    "except:\n",
    "    print(\"Anything multiplied by zero will be zero\")\n",
    "else:\n",
    "    print(\"The result is: \",result)"
   ]
  },
  {
   "cell_type": "markdown",
   "id": "afad0b9a-6856-4323-a2c3-b874ee999d66",
   "metadata": {},
   "source": [
    "QUESTION 19"
   ]
  },
  {
   "cell_type": "code",
   "execution_count": 118,
   "id": "1f69f00d-02c9-4880-8d8d-589f12b0aa8b",
   "metadata": {},
   "outputs": [
    {
     "name": "stdin",
     "output_type": "stream",
     "text": [
      "Enter the number 4\n",
      "Enter the number 0\n"
     ]
    },
    {
     "name": "stdout",
     "output_type": "stream",
     "text": [
      "num 2 is zero\n"
     ]
    }
   ],
   "source": [
    "num1 = 0.0\n",
    "num2 = 0.0\n",
    "result = 0.0 \n",
    "try:\n",
    "    num1 = float(input(\"Enter the number\"))\n",
    "    num2 = float(input(\"Enter the number\"))\n",
    "    assert num2!=0\n",
    "except:\n",
    "    print(\"num 2 is zero\")\n",
    "else:\n",
    "    result = num1/num2\n",
    "    print(\"The result is: \",result)"
   ]
  },
  {
   "cell_type": "markdown",
   "id": "c8cca0d1-041a-43ef-bdd3-3a733d64c067",
   "metadata": {},
   "source": [
    "QUESTION 20"
   ]
  },
  {
   "cell_type": "code",
   "execution_count": 119,
   "id": "4c9bf87b-a8f7-4314-bd6b-40269a55da6a",
   "metadata": {},
   "outputs": [
    {
     "data": {
      "text/html": [
       "<div>\n",
       "<style scoped>\n",
       "    .dataframe tbody tr th:only-of-type {\n",
       "        vertical-align: middle;\n",
       "    }\n",
       "\n",
       "    .dataframe tbody tr th {\n",
       "        vertical-align: top;\n",
       "    }\n",
       "\n",
       "    .dataframe thead th {\n",
       "        text-align: right;\n",
       "    }\n",
       "</style>\n",
       "<table border=\"1\" class=\"dataframe\">\n",
       "  <thead>\n",
       "    <tr style=\"text-align: right;\">\n",
       "      <th></th>\n",
       "      <th>Unnamed: 0</th>\n",
       "      <th>age</th>\n",
       "      <th>job</th>\n",
       "      <th>marital</th>\n",
       "      <th>education</th>\n",
       "      <th>default</th>\n",
       "      <th>balance</th>\n",
       "      <th>housing</th>\n",
       "      <th>loan</th>\n",
       "      <th>contact</th>\n",
       "      <th>day</th>\n",
       "      <th>month</th>\n",
       "      <th>duration</th>\n",
       "      <th>campaign</th>\n",
       "      <th>pdays</th>\n",
       "      <th>previous</th>\n",
       "      <th>poutcome</th>\n",
       "      <th>deposit</th>\n",
       "    </tr>\n",
       "  </thead>\n",
       "  <tbody>\n",
       "    <tr>\n",
       "      <th>0</th>\n",
       "      <td>0</td>\n",
       "      <td>41</td>\n",
       "      <td>services</td>\n",
       "      <td>married</td>\n",
       "      <td>unknown</td>\n",
       "      <td>no</td>\n",
       "      <td>88</td>\n",
       "      <td>yes</td>\n",
       "      <td>no</td>\n",
       "      <td>cellular</td>\n",
       "      <td>11</td>\n",
       "      <td>may</td>\n",
       "      <td>105</td>\n",
       "      <td>1</td>\n",
       "      <td>336</td>\n",
       "      <td>2</td>\n",
       "      <td>failure</td>\n",
       "      <td>no</td>\n",
       "    </tr>\n",
       "    <tr>\n",
       "      <th>1</th>\n",
       "      <td>1</td>\n",
       "      <td>56</td>\n",
       "      <td>technician</td>\n",
       "      <td>married</td>\n",
       "      <td>secondary</td>\n",
       "      <td>no</td>\n",
       "      <td>1938</td>\n",
       "      <td>no</td>\n",
       "      <td>yes</td>\n",
       "      <td>cellular</td>\n",
       "      <td>26</td>\n",
       "      <td>feb</td>\n",
       "      <td>229</td>\n",
       "      <td>1</td>\n",
       "      <td>192</td>\n",
       "      <td>4</td>\n",
       "      <td>success</td>\n",
       "      <td>yes</td>\n",
       "    </tr>\n",
       "    <tr>\n",
       "      <th>2</th>\n",
       "      <td>2</td>\n",
       "      <td>30</td>\n",
       "      <td>services</td>\n",
       "      <td>single</td>\n",
       "      <td>secondary</td>\n",
       "      <td>no</td>\n",
       "      <td>245</td>\n",
       "      <td>no</td>\n",
       "      <td>yes</td>\n",
       "      <td>cellular</td>\n",
       "      <td>8</td>\n",
       "      <td>jul</td>\n",
       "      <td>187</td>\n",
       "      <td>2</td>\n",
       "      <td>-1</td>\n",
       "      <td>0</td>\n",
       "      <td>unknown</td>\n",
       "      <td>no</td>\n",
       "    </tr>\n",
       "  </tbody>\n",
       "</table>\n",
       "</div>"
      ],
      "text/plain": [
       "   Unnamed: 0  age         job  marital  education default  balance housing  \\\n",
       "0           0   41    services  married    unknown      no       88     yes   \n",
       "1           1   56  technician  married  secondary      no     1938      no   \n",
       "2           2   30    services   single  secondary      no      245      no   \n",
       "\n",
       "  loan   contact  day month  duration  campaign  pdays  previous poutcome  \\\n",
       "0   no  cellular   11   may       105         1    336         2  failure   \n",
       "1  yes  cellular   26   feb       229         1    192         4  success   \n",
       "2  yes  cellular    8   jul       187         2     -1         0  unknown   \n",
       "\n",
       "  deposit  \n",
       "0      no  \n",
       "1     yes  \n",
       "2      no  "
      ]
     },
     "execution_count": 119,
     "metadata": {},
     "output_type": "execute_result"
    }
   ],
   "source": [
    "df.head(3)"
   ]
  },
  {
   "cell_type": "code",
   "execution_count": 131,
   "id": "b15c50a9-9cc6-45d9-b0b4-5cfc503adc35",
   "metadata": {},
   "outputs": [
    {
     "data": {
      "text/html": [
       "<div>\n",
       "<style scoped>\n",
       "    .dataframe tbody tr th:only-of-type {\n",
       "        vertical-align: middle;\n",
       "    }\n",
       "\n",
       "    .dataframe tbody tr th {\n",
       "        vertical-align: top;\n",
       "    }\n",
       "\n",
       "    .dataframe thead th {\n",
       "        text-align: right;\n",
       "    }\n",
       "</style>\n",
       "<table border=\"1\" class=\"dataframe\">\n",
       "  <thead>\n",
       "    <tr style=\"text-align: right;\">\n",
       "      <th></th>\n",
       "      <th>age</th>\n",
       "      <th>job</th>\n",
       "      <th>marital</th>\n",
       "      <th>education</th>\n",
       "      <th>default</th>\n",
       "      <th>balance</th>\n",
       "      <th>housing</th>\n",
       "      <th>loan</th>\n",
       "      <th>contact</th>\n",
       "      <th>day</th>\n",
       "      <th>month</th>\n",
       "      <th>duration</th>\n",
       "      <th>campaign</th>\n",
       "      <th>pdays</th>\n",
       "      <th>previous</th>\n",
       "      <th>poutcome</th>\n",
       "      <th>deposit</th>\n",
       "    </tr>\n",
       "  </thead>\n",
       "  <tbody>\n",
       "    <tr>\n",
       "      <th>0</th>\n",
       "      <td>41</td>\n",
       "      <td>services</td>\n",
       "      <td>married</td>\n",
       "      <td>unknown</td>\n",
       "      <td>no</td>\n",
       "      <td>88</td>\n",
       "      <td>yes</td>\n",
       "      <td>no</td>\n",
       "      <td>cellular</td>\n",
       "      <td>11</td>\n",
       "      <td>may</td>\n",
       "      <td>105</td>\n",
       "      <td>1</td>\n",
       "      <td>336</td>\n",
       "      <td>2</td>\n",
       "      <td>failure</td>\n",
       "      <td>no</td>\n",
       "    </tr>\n",
       "    <tr>\n",
       "      <th>1</th>\n",
       "      <td>56</td>\n",
       "      <td>technician</td>\n",
       "      <td>married</td>\n",
       "      <td>secondary</td>\n",
       "      <td>no</td>\n",
       "      <td>1938</td>\n",
       "      <td>no</td>\n",
       "      <td>yes</td>\n",
       "      <td>cellular</td>\n",
       "      <td>26</td>\n",
       "      <td>feb</td>\n",
       "      <td>229</td>\n",
       "      <td>1</td>\n",
       "      <td>192</td>\n",
       "      <td>4</td>\n",
       "      <td>success</td>\n",
       "      <td>yes</td>\n",
       "    </tr>\n",
       "    <tr>\n",
       "      <th>2</th>\n",
       "      <td>30</td>\n",
       "      <td>services</td>\n",
       "      <td>single</td>\n",
       "      <td>secondary</td>\n",
       "      <td>no</td>\n",
       "      <td>245</td>\n",
       "      <td>no</td>\n",
       "      <td>yes</td>\n",
       "      <td>cellular</td>\n",
       "      <td>8</td>\n",
       "      <td>jul</td>\n",
       "      <td>187</td>\n",
       "      <td>2</td>\n",
       "      <td>-1</td>\n",
       "      <td>0</td>\n",
       "      <td>unknown</td>\n",
       "      <td>no</td>\n",
       "    </tr>\n",
       "  </tbody>\n",
       "</table>\n",
       "</div>"
      ],
      "text/plain": [
       "   age         job  marital  education default  balance housing loan  \\\n",
       "0   41    services  married    unknown      no       88     yes   no   \n",
       "1   56  technician  married  secondary      no     1938      no  yes   \n",
       "2   30    services   single  secondary      no      245      no  yes   \n",
       "\n",
       "    contact  day month  duration  campaign  pdays  previous poutcome deposit  \n",
       "0  cellular   11   may       105         1    336         2  failure      no  \n",
       "1  cellular   26   feb       229         1    192         4  success     yes  \n",
       "2  cellular    8   jul       187         2     -1         0  unknown      no  "
      ]
     },
     "execution_count": 131,
     "metadata": {},
     "output_type": "execute_result"
    }
   ],
   "source": [
    "#df.drop('Unnamed: 0', axis =1)\n",
    "df.head(3)"
   ]
  },
  {
   "cell_type": "code",
   "execution_count": 132,
   "id": "e4e07c5f-ffad-4a08-b888-276de0d77930",
   "metadata": {},
   "outputs": [
    {
     "data": {
      "text/plain": [
       "age          0\n",
       "job          0\n",
       "marital      0\n",
       "education    0\n",
       "default      0\n",
       "balance      0\n",
       "housing      0\n",
       "loan         0\n",
       "contact      0\n",
       "day          0\n",
       "month        0\n",
       "duration     0\n",
       "campaign     0\n",
       "pdays        0\n",
       "previous     0\n",
       "poutcome     0\n",
       "deposit      0\n",
       "dtype: int64"
      ]
     },
     "execution_count": 132,
     "metadata": {},
     "output_type": "execute_result"
    }
   ],
   "source": [
    "df.isnull().sum()"
   ]
  },
  {
   "cell_type": "code",
   "execution_count": 133,
   "id": "ec5a077e-084b-4fee-a3ac-802e3bdef1a0",
   "metadata": {},
   "outputs": [
    {
     "data": {
      "text/plain": [
       "0"
      ]
     },
     "execution_count": 133,
     "metadata": {},
     "output_type": "execute_result"
    }
   ],
   "source": [
    "df.duplicated().sum()"
   ]
  },
  {
   "cell_type": "code",
   "execution_count": 134,
   "id": "bb768f72-a895-430c-9448-e34d33819d6f",
   "metadata": {},
   "outputs": [
    {
     "data": {
      "text/plain": [
       "(5581, 17)"
      ]
     },
     "execution_count": 134,
     "metadata": {},
     "output_type": "execute_result"
    }
   ],
   "source": [
    "df.dropna()\n",
    "df.drop_duplicates(keep=\"first\",inplace = True)\n",
    "df.shape"
   ]
  },
  {
   "cell_type": "code",
   "execution_count": 135,
   "id": "0764bbd8-f174-465b-b882-e2cd17d96df7",
   "metadata": {},
   "outputs": [
    {
     "data": {
      "text/plain": [
       "41.42677345537757"
      ]
     },
     "execution_count": 135,
     "metadata": {},
     "output_type": "execute_result"
    }
   ],
   "source": [
    "df['age'][df['deposit']=='yes'].mean()"
   ]
  },
  {
   "cell_type": "markdown",
   "id": "acaad4c0-2672-4ff3-a0b4-7b71d937b1a7",
   "metadata": {},
   "source": [
    "QUESTION 21"
   ]
  },
  {
   "cell_type": "code",
   "execution_count": 136,
   "id": "401b81b5-28f8-4022-a56a-cbdc0a3be037",
   "metadata": {},
   "outputs": [
    {
     "name": "stdin",
     "output_type": "stream",
     "text": [
      "Enter the number you want to take factorial of:  4\n"
     ]
    },
    {
     "name": "stdout",
     "output_type": "stream",
     "text": [
      "The fact is:  24\n"
     ]
    }
   ],
   "source": [
    "n = int(input(\"Enter the number you want to take factorial of: \"))\n",
    "sum = 1\n",
    "for i in range(1,n+1):\n",
    "    sum = sum*i\n",
    "print(\"The fact is: \",sum)"
   ]
  },
  {
   "cell_type": "markdown",
   "id": "b1360e67-7ca2-4e62-bb6e-4214e019c5af",
   "metadata": {},
   "source": [
    "QUESTION 22"
   ]
  },
  {
   "cell_type": "code",
   "execution_count": 146,
   "id": "c290d76e-dc5e-4990-95e8-e9f13f58df11",
   "metadata": {},
   "outputs": [
    {
     "name": "stdin",
     "output_type": "stream",
     "text": [
      "Enter a string\n",
      " hello\n"
     ]
    },
    {
     "name": "stdout",
     "output_type": "stream",
     "text": [
      "olleh\n"
     ]
    }
   ],
   "source": [
    "def reverse(x):\n",
    "    return x[::-1]\n",
    "txt = str(input(\"Enter a string\\n\"))\n",
    "print(reverse(txt))"
   ]
  },
  {
   "cell_type": "markdown",
   "id": "b9e37c83-5096-4b4a-86a2-d061f719ee01",
   "metadata": {},
   "source": [
    "QUESTION 23"
   ]
  },
  {
   "cell_type": "code",
   "execution_count": 145,
   "id": "58841df2-f262-492d-9041-573a575bc41d",
   "metadata": {},
   "outputs": [
    {
     "name": "stdin",
     "output_type": "stream",
     "text": [
      "Enter the number of rows 2\n",
      "Enter the number of columns 2\n"
     ]
    },
    {
     "name": "stdout",
     "output_type": "stream",
     "text": [
      "Enter the elements\n"
     ]
    },
    {
     "name": "stdin",
     "output_type": "stream",
     "text": [
      " 1\n",
      " 2\n",
      " 3\n",
      " 4\n"
     ]
    },
    {
     "name": "stdout",
     "output_type": "stream",
     "text": [
      "[[1 2]\n",
      " [3 4]]\n",
      "Largest element:  4\n",
      "Largest element:  1\n"
     ]
    }
   ],
   "source": [
    "i = int(input(\"Enter the number of rows\"))\n",
    "j = int(input(\"Enter the number of columns\"))\n",
    "print(\"Enter the elements\")\n",
    "list1=[]\n",
    "for r in range(0,i):\n",
    "    a = []\n",
    "    for c in range(0,j):\n",
    "        a.append(int(input()))\n",
    "    list1.append(a)\n",
    "mat1 = np.array(list1)\n",
    "print(mat1)\n",
    "print(\"Largest element: \",max(mat1.flatten()))\n",
    "print(\"Largest element: \",min(mat1.flatten()))"
   ]
  },
  {
   "cell_type": "markdown",
   "id": "44176488-0f30-450d-b388-9c135f561107",
   "metadata": {},
   "source": [
    "QUESTION 24"
   ]
  },
  {
   "cell_type": "code",
   "execution_count": 151,
   "id": "63a452e2-41d7-4916-848b-5aacd8b65697",
   "metadata": {},
   "outputs": [
    {
     "name": "stdin",
     "output_type": "stream",
     "text": [
      "Enter a string Nitin\n"
     ]
    },
    {
     "name": "stdout",
     "output_type": "stream",
     "text": [
      "Palindrome\n"
     ]
    }
   ],
   "source": [
    "def palindrome(x):\n",
    "    x1 = x.lower()\n",
    "    y = x1[::-1]\n",
    "    if(y==x1):\n",
    "        print(\"Palindrome\")\n",
    "    else:\n",
    "        print(\"Not Palindrome\")\n",
    "txt = input(\"Enter a string\")\n",
    "palindrome(txt)"
   ]
  },
  {
   "cell_type": "markdown",
   "id": "3057efcc-29c6-4b27-8516-4a37f70be7b5",
   "metadata": {},
   "source": [
    "QUESTION 25"
   ]
  },
  {
   "cell_type": "code",
   "execution_count": 158,
   "id": "2c35ec10-8a10-45af-93c8-7860e70f1217",
   "metadata": {},
   "outputs": [
    {
     "name": "stdin",
     "output_type": "stream",
     "text": [
      "Enter the number of key value pair you want in dictionary 1 1\n",
      "Enter key India\n",
      "Enter Value Rupees\n"
     ]
    },
    {
     "name": "stdout",
     "output_type": "stream",
     "text": [
      "{'India': 'Rupees'}\n"
     ]
    },
    {
     "name": "stdin",
     "output_type": "stream",
     "text": [
      "Enter the number of key value pair you want in dictionary 2 1\n"
     ]
    },
    {
     "name": "stdout",
     "output_type": "stream",
     "text": [
      "Enter key and value\n"
     ]
    },
    {
     "name": "stdin",
     "output_type": "stream",
     "text": [
      "Enter Key Japan\n",
      "Enter Value Yen\n"
     ]
    },
    {
     "name": "stdout",
     "output_type": "stream",
     "text": [
      "{'Japan': 'Yen'}\n",
      "Merged dict is: \n",
      "{'India': 'Rupees', 'Japan': 'Yen'}\n"
     ]
    }
   ],
   "source": [
    "def merge(dict1,dict2):\n",
    "    return(dict1.update(dict2))\n",
    "dict1 = {}\n",
    "dict2 = {}\n",
    "x = int(input(\"Enter the number of key value pair you want in dictionary 1\"))\n",
    "for i in range(0,x):\n",
    "    z = input(\"Enter key\")\n",
    "    c = input(\"Enter Value\")\n",
    "    dict1[z] = c\n",
    "print(dict1)\n",
    "y = int(input(\"Enter the number of key value pair you want in dictionary 2\"))\n",
    "print(\"Enter key and value\")\n",
    "for j in range(0,y):\n",
    "    t = input(\"Enter Key\")\n",
    "    u = input(\"Enter Value\")\n",
    "    dict2[t] = u\n",
    "print(dict2)\n",
    "merge(dict1,dict2)\n",
    "print(\"Merged dict is: \")\n",
    "print(dict1)"
   ]
  },
  {
   "cell_type": "markdown",
   "id": "086da1a1-9996-48db-b07c-53dc916809ce",
   "metadata": {},
   "source": [
    "QUESTION 26"
   ]
  },
  {
   "cell_type": "code",
   "execution_count": 164,
   "id": "c87036bc-e0c8-4bc2-88d5-31753f611104",
   "metadata": {},
   "outputs": [
    {
     "name": "stdin",
     "output_type": "stream",
     "text": [
      "Enter the length of rectangle 4\n",
      "Enter the breadth of rectangle 5\n"
     ]
    },
    {
     "name": "stdout",
     "output_type": "stream",
     "text": [
      "Perimeter is:  18\n",
      "Area is:  20\n"
     ]
    }
   ],
   "source": [
    "class Rectangle:\n",
    "    def peri(self,l,b):\n",
    "        print(\"Perimeter is: \",(2*(l+b)))\n",
    "    def area(self,l,b):\n",
    "        print(\"Area is: \",(l*b))\n",
    "l = int(input(\"Enter the length of rectangle\"))\n",
    "b = int(input(\"Enter the breadth of rectangle\"))\n",
    "r1 = Rectangle()\n",
    "r1.peri(l,b)\n",
    "r1.area(l,b)"
   ]
  },
  {
   "cell_type": "markdown",
   "id": "8bdc8c1c-ad46-4a30-8882-a126a692a866",
   "metadata": {},
   "source": [
    "QUESTION 27"
   ]
  },
  {
   "cell_type": "code",
   "execution_count": 165,
   "id": "bf15d2b5-a12b-4dac-9fec-3b12eac3872b",
   "metadata": {},
   "outputs": [
    {
     "name": "stdin",
     "output_type": "stream",
     "text": [
      "Enter the number of rows 2\n",
      "Enter the number of columns 2\n"
     ]
    },
    {
     "name": "stdout",
     "output_type": "stream",
     "text": [
      "Enter the elements\n"
     ]
    },
    {
     "name": "stdin",
     "output_type": "stream",
     "text": [
      " 4\n",
      " 3\n",
      " 3\n",
      " 2\n"
     ]
    },
    {
     "name": "stdout",
     "output_type": "stream",
     "text": [
      "[[4 3]\n",
      " [3 2]]\n",
      "Inverse of the mmatrix is: \n",
      " [[-2.  3.]\n",
      " [ 3. -4.]]\n"
     ]
    }
   ],
   "source": [
    "i = int(input(\"Enter the number of rows\"))\n",
    "j = int(input(\"Enter the number of columns\"))\n",
    "print(\"Enter the elements\")\n",
    "list1=[]\n",
    "for r in range(0,i):\n",
    "    a = []\n",
    "    for c in range(0,j):\n",
    "        a.append(int(input()))\n",
    "    list1.append(a)\n",
    "mat1 = np.array(list1)\n",
    "print(mat1)\n",
    "print(\"Inverse of the mmatrix is: \\n\",np.linalg.inv(mat1))"
   ]
  },
  {
   "cell_type": "markdown",
   "id": "55da3f2f-7854-45f9-b4c3-42a3ccffe826",
   "metadata": {},
   "source": [
    "QUESTION 28"
   ]
  },
  {
   "cell_type": "code",
   "execution_count": 167,
   "id": "24004ebf-e38a-49d2-8bf7-fb80c28a30b0",
   "metadata": {},
   "outputs": [
    {
     "data": {
      "text/html": [
       "<div>\n",
       "<style scoped>\n",
       "    .dataframe tbody tr th:only-of-type {\n",
       "        vertical-align: middle;\n",
       "    }\n",
       "\n",
       "    .dataframe tbody tr th {\n",
       "        vertical-align: top;\n",
       "    }\n",
       "\n",
       "    .dataframe thead th {\n",
       "        text-align: right;\n",
       "    }\n",
       "</style>\n",
       "<table border=\"1\" class=\"dataframe\">\n",
       "  <thead>\n",
       "    <tr style=\"text-align: right;\">\n",
       "      <th></th>\n",
       "      <th>PassengerId</th>\n",
       "      <th>Survived</th>\n",
       "      <th>Pclass</th>\n",
       "      <th>Name</th>\n",
       "      <th>Sex</th>\n",
       "      <th>Age</th>\n",
       "      <th>SibSp</th>\n",
       "      <th>Parch</th>\n",
       "      <th>Ticket</th>\n",
       "      <th>Fare</th>\n",
       "      <th>Cabin</th>\n",
       "      <th>Embarked</th>\n",
       "    </tr>\n",
       "  </thead>\n",
       "  <tbody>\n",
       "    <tr>\n",
       "      <th>0</th>\n",
       "      <td>1</td>\n",
       "      <td>0</td>\n",
       "      <td>3</td>\n",
       "      <td>Braund, Mr. Owen Harris</td>\n",
       "      <td>male</td>\n",
       "      <td>22.0</td>\n",
       "      <td>1</td>\n",
       "      <td>0</td>\n",
       "      <td>A/5 21171</td>\n",
       "      <td>7.2500</td>\n",
       "      <td>NaN</td>\n",
       "      <td>S</td>\n",
       "    </tr>\n",
       "    <tr>\n",
       "      <th>1</th>\n",
       "      <td>2</td>\n",
       "      <td>1</td>\n",
       "      <td>1</td>\n",
       "      <td>Cumings, Mrs. John Bradley (Florence Briggs Th...</td>\n",
       "      <td>female</td>\n",
       "      <td>38.0</td>\n",
       "      <td>1</td>\n",
       "      <td>0</td>\n",
       "      <td>PC 17599</td>\n",
       "      <td>71.2833</td>\n",
       "      <td>C85</td>\n",
       "      <td>C</td>\n",
       "    </tr>\n",
       "    <tr>\n",
       "      <th>2</th>\n",
       "      <td>3</td>\n",
       "      <td>1</td>\n",
       "      <td>3</td>\n",
       "      <td>Heikkinen, Miss. Laina</td>\n",
       "      <td>female</td>\n",
       "      <td>26.0</td>\n",
       "      <td>0</td>\n",
       "      <td>0</td>\n",
       "      <td>STON/O2. 3101282</td>\n",
       "      <td>7.9250</td>\n",
       "      <td>NaN</td>\n",
       "      <td>S</td>\n",
       "    </tr>\n",
       "  </tbody>\n",
       "</table>\n",
       "</div>"
      ],
      "text/plain": [
       "   PassengerId  Survived  Pclass  \\\n",
       "0            1         0       3   \n",
       "1            2         1       1   \n",
       "2            3         1       3   \n",
       "\n",
       "                                                Name     Sex   Age  SibSp  \\\n",
       "0                            Braund, Mr. Owen Harris    male  22.0      1   \n",
       "1  Cumings, Mrs. John Bradley (Florence Briggs Th...  female  38.0      1   \n",
       "2                             Heikkinen, Miss. Laina  female  26.0      0   \n",
       "\n",
       "   Parch            Ticket     Fare Cabin Embarked  \n",
       "0      0         A/5 21171   7.2500   NaN        S  \n",
       "1      0          PC 17599  71.2833   C85        C  \n",
       "2      0  STON/O2. 3101282   7.9250   NaN        S  "
      ]
     },
     "execution_count": 167,
     "metadata": {},
     "output_type": "execute_result"
    }
   ],
   "source": [
    "#frames = [df1, df2, df3]\n",
    "#result = pd.concat(frames)\n",
    "df1 = pd.read_csv(\"titanic_dataset.csv\")\n",
    "df1.head(3)"
   ]
  },
  {
   "cell_type": "code",
   "execution_count": 172,
   "id": "1268366c-314c-40fa-9b5d-3eb854b17d61",
   "metadata": {},
   "outputs": [],
   "source": [
    "frames = [df,df1]\n",
    "result = pd.concat(frames, axis = 1)"
   ]
  },
  {
   "cell_type": "code",
   "execution_count": 173,
   "id": "dff34632-69f5-4894-a903-fe0a1453a6dc",
   "metadata": {},
   "outputs": [
    {
     "data": {
      "text/html": [
       "<div>\n",
       "<style scoped>\n",
       "    .dataframe tbody tr th:only-of-type {\n",
       "        vertical-align: middle;\n",
       "    }\n",
       "\n",
       "    .dataframe tbody tr th {\n",
       "        vertical-align: top;\n",
       "    }\n",
       "\n",
       "    .dataframe thead th {\n",
       "        text-align: right;\n",
       "    }\n",
       "</style>\n",
       "<table border=\"1\" class=\"dataframe\">\n",
       "  <thead>\n",
       "    <tr style=\"text-align: right;\">\n",
       "      <th></th>\n",
       "      <th>age</th>\n",
       "      <th>job</th>\n",
       "      <th>marital</th>\n",
       "      <th>education</th>\n",
       "      <th>default</th>\n",
       "      <th>balance</th>\n",
       "      <th>housing</th>\n",
       "      <th>loan</th>\n",
       "      <th>contact</th>\n",
       "      <th>day</th>\n",
       "      <th>...</th>\n",
       "      <th>Pclass</th>\n",
       "      <th>Name</th>\n",
       "      <th>Sex</th>\n",
       "      <th>Age</th>\n",
       "      <th>SibSp</th>\n",
       "      <th>Parch</th>\n",
       "      <th>Ticket</th>\n",
       "      <th>Fare</th>\n",
       "      <th>Cabin</th>\n",
       "      <th>Embarked</th>\n",
       "    </tr>\n",
       "  </thead>\n",
       "  <tbody>\n",
       "    <tr>\n",
       "      <th>0</th>\n",
       "      <td>41</td>\n",
       "      <td>services</td>\n",
       "      <td>married</td>\n",
       "      <td>unknown</td>\n",
       "      <td>no</td>\n",
       "      <td>88</td>\n",
       "      <td>yes</td>\n",
       "      <td>no</td>\n",
       "      <td>cellular</td>\n",
       "      <td>11</td>\n",
       "      <td>...</td>\n",
       "      <td>3.0</td>\n",
       "      <td>Braund, Mr. Owen Harris</td>\n",
       "      <td>male</td>\n",
       "      <td>22.0</td>\n",
       "      <td>1.0</td>\n",
       "      <td>0.0</td>\n",
       "      <td>A/5 21171</td>\n",
       "      <td>7.2500</td>\n",
       "      <td>NaN</td>\n",
       "      <td>S</td>\n",
       "    </tr>\n",
       "    <tr>\n",
       "      <th>1</th>\n",
       "      <td>56</td>\n",
       "      <td>technician</td>\n",
       "      <td>married</td>\n",
       "      <td>secondary</td>\n",
       "      <td>no</td>\n",
       "      <td>1938</td>\n",
       "      <td>no</td>\n",
       "      <td>yes</td>\n",
       "      <td>cellular</td>\n",
       "      <td>26</td>\n",
       "      <td>...</td>\n",
       "      <td>1.0</td>\n",
       "      <td>Cumings, Mrs. John Bradley (Florence Briggs Th...</td>\n",
       "      <td>female</td>\n",
       "      <td>38.0</td>\n",
       "      <td>1.0</td>\n",
       "      <td>0.0</td>\n",
       "      <td>PC 17599</td>\n",
       "      <td>71.2833</td>\n",
       "      <td>C85</td>\n",
       "      <td>C</td>\n",
       "    </tr>\n",
       "    <tr>\n",
       "      <th>2</th>\n",
       "      <td>30</td>\n",
       "      <td>services</td>\n",
       "      <td>single</td>\n",
       "      <td>secondary</td>\n",
       "      <td>no</td>\n",
       "      <td>245</td>\n",
       "      <td>no</td>\n",
       "      <td>yes</td>\n",
       "      <td>cellular</td>\n",
       "      <td>8</td>\n",
       "      <td>...</td>\n",
       "      <td>3.0</td>\n",
       "      <td>Heikkinen, Miss. Laina</td>\n",
       "      <td>female</td>\n",
       "      <td>26.0</td>\n",
       "      <td>0.0</td>\n",
       "      <td>0.0</td>\n",
       "      <td>STON/O2. 3101282</td>\n",
       "      <td>7.9250</td>\n",
       "      <td>NaN</td>\n",
       "      <td>S</td>\n",
       "    </tr>\n",
       "    <tr>\n",
       "      <th>3</th>\n",
       "      <td>34</td>\n",
       "      <td>management</td>\n",
       "      <td>single</td>\n",
       "      <td>tertiary</td>\n",
       "      <td>no</td>\n",
       "      <td>1396</td>\n",
       "      <td>yes</td>\n",
       "      <td>no</td>\n",
       "      <td>cellular</td>\n",
       "      <td>17</td>\n",
       "      <td>...</td>\n",
       "      <td>1.0</td>\n",
       "      <td>Futrelle, Mrs. Jacques Heath (Lily May Peel)</td>\n",
       "      <td>female</td>\n",
       "      <td>35.0</td>\n",
       "      <td>1.0</td>\n",
       "      <td>0.0</td>\n",
       "      <td>113803</td>\n",
       "      <td>53.1000</td>\n",
       "      <td>C123</td>\n",
       "      <td>S</td>\n",
       "    </tr>\n",
       "    <tr>\n",
       "      <th>4</th>\n",
       "      <td>29</td>\n",
       "      <td>technician</td>\n",
       "      <td>single</td>\n",
       "      <td>secondary</td>\n",
       "      <td>no</td>\n",
       "      <td>-13</td>\n",
       "      <td>yes</td>\n",
       "      <td>no</td>\n",
       "      <td>cellular</td>\n",
       "      <td>14</td>\n",
       "      <td>...</td>\n",
       "      <td>3.0</td>\n",
       "      <td>Allen, Mr. William Henry</td>\n",
       "      <td>male</td>\n",
       "      <td>35.0</td>\n",
       "      <td>0.0</td>\n",
       "      <td>0.0</td>\n",
       "      <td>373450</td>\n",
       "      <td>8.0500</td>\n",
       "      <td>NaN</td>\n",
       "      <td>S</td>\n",
       "    </tr>\n",
       "  </tbody>\n",
       "</table>\n",
       "<p>5 rows × 29 columns</p>\n",
       "</div>"
      ],
      "text/plain": [
       "   age         job  marital  education default  balance housing loan  \\\n",
       "0   41    services  married    unknown      no       88     yes   no   \n",
       "1   56  technician  married  secondary      no     1938      no  yes   \n",
       "2   30    services   single  secondary      no      245      no  yes   \n",
       "3   34  management   single   tertiary      no     1396     yes   no   \n",
       "4   29  technician   single  secondary      no      -13     yes   no   \n",
       "\n",
       "    contact  day  ... Pclass  \\\n",
       "0  cellular   11  ...    3.0   \n",
       "1  cellular   26  ...    1.0   \n",
       "2  cellular    8  ...    3.0   \n",
       "3  cellular   17  ...    1.0   \n",
       "4  cellular   14  ...    3.0   \n",
       "\n",
       "                                                Name     Sex   Age  SibSp  \\\n",
       "0                            Braund, Mr. Owen Harris    male  22.0    1.0   \n",
       "1  Cumings, Mrs. John Bradley (Florence Briggs Th...  female  38.0    1.0   \n",
       "2                             Heikkinen, Miss. Laina  female  26.0    0.0   \n",
       "3       Futrelle, Mrs. Jacques Heath (Lily May Peel)  female  35.0    1.0   \n",
       "4                           Allen, Mr. William Henry    male  35.0    0.0   \n",
       "\n",
       "  Parch            Ticket     Fare  Cabin  Embarked  \n",
       "0   0.0         A/5 21171   7.2500    NaN         S  \n",
       "1   0.0          PC 17599  71.2833    C85         C  \n",
       "2   0.0  STON/O2. 3101282   7.9250    NaN         S  \n",
       "3   0.0            113803  53.1000   C123         S  \n",
       "4   0.0            373450   8.0500    NaN         S  \n",
       "\n",
       "[5 rows x 29 columns]"
      ]
     },
     "execution_count": 173,
     "metadata": {},
     "output_type": "execute_result"
    }
   ],
   "source": [
    "result.head(5)"
   ]
  },
  {
   "cell_type": "markdown",
   "id": "be79eae0-0c26-4319-927c-c9ad838667d0",
   "metadata": {},
   "source": [
    "QUESTION 29"
   ]
  },
  {
   "cell_type": "code",
   "execution_count": 179,
   "id": "155a7242-91ea-4dbb-8866-cdb1df23a2b2",
   "metadata": {},
   "outputs": [
    {
     "name": "stdin",
     "output_type": "stream",
     "text": [
      "Enter a number 4\n",
      "Enter a number 6\n"
     ]
    },
    {
     "name": "stdout",
     "output_type": "stream",
     "text": [
      "GCD of 4 and 6 is 2\n"
     ]
    }
   ],
   "source": [
    "def getGCD(a, b):\n",
    "    return b == 0 and a or getGCD(b, a % b)\n",
    "\n",
    "\n",
    "num1 = int(input(\"Enter a number\"))\n",
    "num2 = int(input(\"Enter a number\"))\n",
    "\n",
    "print(\"GCD of\", num1, \"and\", num2, \"is\", getGCD(num1, num2))"
   ]
  },
  {
   "cell_type": "markdown",
   "id": "3d0e9a35-ffce-4b1a-aad5-c7cda52dd3c9",
   "metadata": {},
   "source": [
    "QUESTION 30"
   ]
  },
  {
   "cell_type": "code",
   "execution_count": 193,
   "id": "7796439b-6d6e-4a53-b199-8d4586aab1fd",
   "metadata": {},
   "outputs": [
    {
     "name": "stdin",
     "output_type": "stream",
     "text": [
      "Ente the number 123\n"
     ]
    },
    {
     "name": "stdout",
     "output_type": "stream",
     "text": [
      "6\n"
     ]
    }
   ],
   "source": [
    "def sumdigit(n):\n",
    "    if n == 0:\n",
    "        return 0\n",
    "    return (n % 10 + sumdigit(int(n / 10)))\n",
    "x = int(input(\"Ente the number\"))\n",
    "res = sumdigit(x)\n",
    "print(res)\n",
    "        "
   ]
  },
  {
   "cell_type": "markdown",
   "id": "43600118-7b6d-4375-8373-7fc0a685323d",
   "metadata": {},
   "source": [
    "QUESTION 31"
   ]
  },
  {
   "cell_type": "code",
   "execution_count": 194,
   "id": "80af5600-92dd-4243-9077-6f50678c57eb",
   "metadata": {},
   "outputs": [
    {
     "name": "stdout",
     "output_type": "stream",
     "text": [
      "Computing ((a+d)+(b*c)/(b*d))\n"
     ]
    },
    {
     "name": "stdin",
     "output_type": "stream",
     "text": [
      "Enter A: 1\n",
      "Enter B: 2\n",
      "Enter C: 3\n",
      "Enter D: 0\n"
     ]
    },
    {
     "name": "stdout",
     "output_type": "stream",
     "text": [
      "Divide by Zero not possible\n"
     ]
    }
   ],
   "source": [
    "result = 0.0\n",
    "try:\n",
    "    print(\"Computing ((a+d)+(b*c)/(b*d))\")\n",
    "    a = int(input(\"Enter A:\"))\n",
    "    b = int(input(\"Enter B:\"))\n",
    "    c = int(input(\"Enter C:\"))\n",
    "    d = int(input(\"Enter D:\"))\n",
    "    result=((a+d)+(b*c)/(b*d))\n",
    "except ZeroDivisionError:\n",
    "    print(\"Divide by Zero not possible\")\n",
    "except FloatingPointError:\n",
    "    print(\"Value not correct\")\n",
    "except TypeError:\n",
    "    print(\"The values should be int format not string format\")\n",
    "else:\n",
    "    print(\"the result:\",result)"
   ]
  },
  {
   "cell_type": "markdown",
   "id": "d364559a-bdce-4dcb-a4a5-e58b321d5384",
   "metadata": {},
   "source": [
    "QUESTION 32"
   ]
  },
  {
   "cell_type": "code",
   "execution_count": 197,
   "id": "530a15e3-99a5-4460-9e74-e21508744656",
   "metadata": {},
   "outputs": [
    {
     "name": "stdin",
     "output_type": "stream",
     "text": [
      "Enter the number of rows 3\n",
      "Enter the number of columns 3\n"
     ]
    },
    {
     "name": "stdout",
     "output_type": "stream",
     "text": [
      "Enter the elements\n"
     ]
    },
    {
     "name": "stdin",
     "output_type": "stream",
     "text": [
      " 9\n",
      " 8\n",
      " 7\n",
      " 6\n",
      " 5\n",
      " 4\n",
      " 3\n",
      " 2\n",
      " 1\n"
     ]
    },
    {
     "name": "stdout",
     "output_type": "stream",
     "text": [
      "[[9 8 7]\n",
      " [6 5 4]\n",
      " [3 2 1]]\n",
      "Sorted Array is: \n",
      "\n",
      "[[7 8 9]\n",
      " [4 5 6]\n",
      " [1 2 3]]\n"
     ]
    }
   ],
   "source": [
    "i = int(input(\"Enter the number of rows\"))\n",
    "j = int(input(\"Enter the number of columns\"))\n",
    "print(\"Enter the elements\")\n",
    "list1=[]\n",
    "for r in range(0,i):\n",
    "    a = []\n",
    "    for c in range(0,j):\n",
    "        a.append(int(input()))\n",
    "    list1.append(a)\n",
    "mat1 = np.array(list1)\n",
    "print(mat1)\n",
    "print(\"Sorted Array is: \\n\")\n",
    "mat2 = np.sort(mat1)\n",
    "print(mat2)\n"
   ]
  },
  {
   "cell_type": "code",
   "execution_count": 201,
   "id": "d0463f41-ceba-4828-ab2d-eebea4b4cf09",
   "metadata": {},
   "outputs": [
    {
     "name": "stdin",
     "output_type": "stream",
     "text": [
      "Enter the number of rows 3\n",
      "Enter the number of columns 3\n"
     ]
    },
    {
     "name": "stdout",
     "output_type": "stream",
     "text": [
      "Enter the elements\n"
     ]
    },
    {
     "name": "stdin",
     "output_type": "stream",
     "text": [
      " 9\n",
      " 8\n",
      " 7\n",
      " 6\n",
      " 5\n",
      " 4\n",
      " 3\n",
      " 2\n",
      " 1\n"
     ]
    },
    {
     "name": "stdout",
     "output_type": "stream",
     "text": [
      "[[9 8 7]\n",
      " [6 5 4]\n",
      " [3 2 1]]\n",
      "Sorted Array is: \n",
      "\n",
      "[1 2 3 4 5 6 7 8 9]\n"
     ]
    }
   ],
   "source": [
    "i = int(input(\"Enter the number of rows\"))\n",
    "j = int(input(\"Enter the number of columns\"))\n",
    "print(\"Enter the elements\")\n",
    "list1=[]\n",
    "for r in range(0,i):\n",
    "    a = []\n",
    "    for c in range(0,j):\n",
    "        a.append(int(input()))\n",
    "    list1.append(a)\n",
    "mat1 = np.array(list1)\n",
    "print(mat1)\n",
    "print(\"Sorted Array is: \\n\")\n",
    "mat2 = np.sort(mat1.flatten())\n",
    "print(mat2)"
   ]
  },
  {
   "cell_type": "code",
   "execution_count": 202,
   "id": "2a27bc21-e4d4-4871-8751-c36b96c80870",
   "metadata": {},
   "outputs": [
    {
     "name": "stdin",
     "output_type": "stream",
     "text": [
      "Enter the number of rows 3\n",
      "Enter the number of columns 3\n"
     ]
    },
    {
     "name": "stdout",
     "output_type": "stream",
     "text": [
      "Enter the elements\n"
     ]
    },
    {
     "name": "stdin",
     "output_type": "stream",
     "text": [
      " 9\n",
      " 8\n",
      " 7\n",
      " 6\n",
      " 5\n",
      " 4\n",
      " 3\n",
      " 2\n",
      " 1\n"
     ]
    },
    {
     "name": "stdout",
     "output_type": "stream",
     "text": [
      "[[9 8 7]\n",
      " [6 5 4]\n",
      " [3 2 1]]\n",
      "Sorted Array is: \n",
      "\n",
      "[[1 2 3]\n",
      " [4 5 6]\n",
      " [7 8 9]]\n"
     ]
    }
   ],
   "source": [
    "i = int(input(\"Enter the number of rows\"))\n",
    "j = int(input(\"Enter the number of columns\"))\n",
    "print(\"Enter the elements\")\n",
    "list1=[]\n",
    "for r in range(0,i):\n",
    "    a = []\n",
    "    for c in range(0,j):\n",
    "        a.append(int(input()))\n",
    "    list1.append(a)\n",
    "mat1 = np.array(list1)\n",
    "print(mat1)\n",
    "print(\"Sorted Array is: \\n\")\n",
    "mat2 = np.sort(mat1.flatten())\n",
    "mat2 = mat2.reshape(i,j)\n",
    "print(mat2)"
   ]
  },
  {
   "cell_type": "code",
   "execution_count": null,
   "id": "ec085969-1125-4298-b1af-512f6f816762",
   "metadata": {},
   "outputs": [],
   "source": []
  }
 ],
 "metadata": {
  "kernelspec": {
   "display_name": "Python 3 (ipykernel)",
   "language": "python",
   "name": "python3"
  },
  "language_info": {
   "codemirror_mode": {
    "name": "ipython",
    "version": 3
   },
   "file_extension": ".py",
   "mimetype": "text/x-python",
   "name": "python",
   "nbconvert_exporter": "python",
   "pygments_lexer": "ipython3",
   "version": "3.12.1"
  }
 },
 "nbformat": 4,
 "nbformat_minor": 5
}
